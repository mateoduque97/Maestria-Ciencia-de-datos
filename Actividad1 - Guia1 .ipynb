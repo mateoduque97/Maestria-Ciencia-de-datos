{
 "cells": [
  {
   "cell_type": "markdown",
   "id": "d7080376-3ea0-411c-9155-131179fc764d",
   "metadata": {},
   "source": [
    "# **Actividad 1 - programacion para la ciencia de Datos**"
   ]
  },
  {
   "cell_type": "code",
   "execution_count": 1,
   "id": "160e3726-42cf-4102-a515-4aaace4cf768",
   "metadata": {},
   "outputs": [],
   "source": [
    "#importar pandas y leer archivo csv\n",
    "import pandas as pd\n",
    "\n",
    "#Leer Archivo csv Census income\n",
    "df1 = pd.read_csv('census_income.csv')"
   ]
  },
  {
   "cell_type": "markdown",
   "id": "e5bc7477-9130-4808-b4bb-25bca8078766",
   "metadata": {},
   "source": [
    "### **Punto 1. Identificar que tipo de variables hay**"
   ]
  },
  {
   "cell_type": "code",
   "execution_count": 2,
   "id": "9b13c32a-bb4d-496a-8f64-c56df444d050",
   "metadata": {},
   "outputs": [
    {
     "name": "stdout",
     "output_type": "stream",
     "text": [
      "Unnamed: 0         int64\n",
      "age                int64\n",
      "workclass         object\n",
      "fnlwgt             int64\n",
      "education         object\n",
      "education-num      int64\n",
      "marital-status    object\n",
      "occupation        object\n",
      "relationship      object\n",
      "race              object\n",
      "sex               object\n",
      "capital-gain       int64\n",
      "capital-loss       int64\n",
      "hours-per-week     int64\n",
      "native-country    object\n",
      "income            object\n",
      "dtype: object\n"
     ]
    }
   ],
   "source": [
    "#Identificar cual es el tipo de variable de cada columna\n",
    "print(df1.dtypes)"
   ]
  },
  {
   "cell_type": "markdown",
   "id": "e06db848-898c-4f08-b54a-8c0bb395ce52",
   "metadata": {},
   "source": [
    "### **Punto 2 Identificar cuantos valores hay por cada una de las columnas**"
   ]
  },
  {
   "cell_type": "code",
   "execution_count": 3,
   "id": "43ef28bc-6ef3-4f1e-a5b7-f59d0289d582",
   "metadata": {},
   "outputs": [
    {
     "name": "stdout",
     "output_type": "stream",
     "text": [
      "Unnamed: 0        48842\n",
      "age               48842\n",
      "workclass         47879\n",
      "fnlwgt            48842\n",
      "education         48842\n",
      "education-num     48842\n",
      "marital-status    48842\n",
      "occupation        47876\n",
      "relationship      48842\n",
      "race              48842\n",
      "sex               48842\n",
      "capital-gain      48842\n",
      "capital-loss      48842\n",
      "hours-per-week    48842\n",
      "native-country    48568\n",
      "income            48842\n",
      "dtype: int64\n"
     ]
    }
   ],
   "source": [
    "#Calcular cuantos valores hay por cada una de las columnas\n",
    "cantidad = df1.count()\n",
    "print(cantidad)\n"
   ]
  },
  {
   "cell_type": "markdown",
   "id": "6e3e7c0c-07c7-45ac-9783-d541938736ad",
   "metadata": {},
   "source": [
    "### **Punto 3 identificar cuantos valores unicos hay**"
   ]
  },
  {
   "cell_type": "code",
   "execution_count": 4,
   "id": "c7a598d6-dd13-424b-b289-b0ea625faa48",
   "metadata": {},
   "outputs": [
    {
     "name": "stdout",
     "output_type": "stream",
     "text": [
      "Unnamed: 0        48842\n",
      "age                  74\n",
      "workclass             9\n",
      "fnlwgt            28523\n",
      "education            16\n",
      "education-num        16\n",
      "marital-status        7\n",
      "occupation           15\n",
      "relationship          6\n",
      "race                  5\n",
      "sex                   2\n",
      "capital-gain        123\n",
      "capital-loss         99\n",
      "hours-per-week       96\n",
      "native-country       42\n",
      "income                4\n",
      "dtype: int64\n"
     ]
    }
   ],
   "source": [
    "# Calcular cuantos valores unicos hay \n",
    "cantidad_unicos = df1.nunique()\n",
    "print(cantidad_unicos)\n"
   ]
  },
  {
   "cell_type": "markdown",
   "id": "11eff934-5980-4ad1-997d-fc70d8789055",
   "metadata": {},
   "source": [
    "### **Punto 4 Identificar cuantos valores nulos hay por cada columna**"
   ]
  },
  {
   "cell_type": "code",
   "execution_count": 5,
   "id": "1bb1aa0c-eea0-4a5b-9803-6b0efd021202",
   "metadata": {},
   "outputs": [
    {
     "name": "stdout",
     "output_type": "stream",
     "text": [
      "Unnamed: 0          0\n",
      "age                 0\n",
      "workclass         963\n",
      "fnlwgt              0\n",
      "education           0\n",
      "education-num       0\n",
      "marital-status      0\n",
      "occupation        966\n",
      "relationship        0\n",
      "race                0\n",
      "sex                 0\n",
      "capital-gain        0\n",
      "capital-loss        0\n",
      "hours-per-week      0\n",
      "native-country    274\n",
      "income              0\n",
      "dtype: int64\n"
     ]
    }
   ],
   "source": [
    "#Calcular cuantos valores nulos hay por cada columna\n",
    "cantidad_nulos = df1.isnull().sum()\n",
    "print(cantidad_nulos)\n"
   ]
  },
  {
   "cell_type": "markdown",
   "id": "0f3ec9ce-534d-48c7-99ee-911a0c0a4852",
   "metadata": {},
   "source": [
    "### **Punto 5 informe de los datos**"
   ]
  },
  {
   "cell_type": "code",
   "execution_count": 6,
   "id": "d84a4a05-4f28-40f5-a799-482b3a8a212f",
   "metadata": {},
   "outputs": [
    {
     "name": "stdout",
     "output_type": "stream",
     "text": [
      "<class 'pandas.core.frame.DataFrame'>\n",
      "RangeIndex: 48842 entries, 0 to 48841\n",
      "Data columns (total 16 columns):\n",
      " #   Column          Non-Null Count  Dtype \n",
      "---  ------          --------------  ----- \n",
      " 0   Unnamed: 0      48842 non-null  int64 \n",
      " 1   age             48842 non-null  int64 \n",
      " 2   workclass       47879 non-null  object\n",
      " 3   fnlwgt          48842 non-null  int64 \n",
      " 4   education       48842 non-null  object\n",
      " 5   education-num   48842 non-null  int64 \n",
      " 6   marital-status  48842 non-null  object\n",
      " 7   occupation      47876 non-null  object\n",
      " 8   relationship    48842 non-null  object\n",
      " 9   race            48842 non-null  object\n",
      " 10  sex             48842 non-null  object\n",
      " 11  capital-gain    48842 non-null  int64 \n",
      " 12  capital-loss    48842 non-null  int64 \n",
      " 13  hours-per-week  48842 non-null  int64 \n",
      " 14  native-country  48568 non-null  object\n",
      " 15  income          48842 non-null  object\n",
      "dtypes: int64(7), object(9)\n",
      "memory usage: 6.0+ MB\n"
     ]
    }
   ],
   "source": [
    "#Informacion general de las variables - De forma masiva con la funcion .info()\n",
    "df1.info()\n"
   ]
  },
  {
   "cell_type": "code",
   "execution_count": 15,
   "id": "27d8f4cb-23ac-4e03-bc82-f5092eadbcb0",
   "metadata": {},
   "outputs": [
    {
     "name": "stdout",
     "output_type": "stream",
     "text": [
      "{'Unnamed: 0': 24420.5, 'age': 38.64358543876172, 'fnlwgt': 189664.13459727284, 'education-num': 10.078088530363212, 'capital-gain': 1079.0676262233324, 'capital-loss': 87.50231358257237, 'hours-per-week': 40.422382375824085}\n"
     ]
    }
   ],
   "source": [
    "#Resumen descriptivo de la base solo para los valores numericos usando IF y ciclos for\n",
    "\n",
    "#Crear un diccionario por cada una de las variables a calcular\n",
    "medias = {}\n",
    "maximo = {}\n",
    "minimo = {}\n",
    "varianza = {}\n",
    "desviacion = {}\n",
    "\n",
    "# Itrar sobre cada una de las columans e identificar cuales son numericas\n",
    "for column in df1.columns:\n",
    "    # Verificar si la columna es de tipo int64\n",
    "    if df1[column].dtype == 'int64':\n",
    "        # Calcular la media y almacenar en el diccionario\n",
    "        medias[column] = df1[column].mean()\n",
    "        # Calcular los numeros maximos de las columnas  \n",
    "        maximo[column] = df1[column].max()\n",
    "        # Calcular los numeros minimo de las columnas  \n",
    "        minimo[column] = df1[column].min()\n",
    "        # Calcular la varianza de las columnas  \n",
    "        varianza[column] = df1[column].var()\n",
    "        # Calcular la desviacion de las columnas  \n",
    "        desviacion[column] = df1[column].std()\n",
    "        \n",
    "\n",
    "# Imprimir las medias de las columnas \n",
    "print(medias)\n"
   ]
  },
  {
   "cell_type": "code",
   "execution_count": 16,
   "id": "b6c17de5-d077-49d0-b607-01a9ae9184d1",
   "metadata": {},
   "outputs": [
    {
     "name": "stdout",
     "output_type": "stream",
     "text": [
      "{'Unnamed: 0': 48841, 'age': 90, 'fnlwgt': 1490400, 'education-num': 16, 'capital-gain': 99999, 'capital-loss': 4356, 'hours-per-week': 99}\n"
     ]
    }
   ],
   "source": [
    "#Imprimir los numeros maximos de la columna\n",
    "print(maximo)"
   ]
  },
  {
   "cell_type": "code",
   "execution_count": 17,
   "id": "c7d8723d-8043-4682-b3d5-3d7db5a93eb8",
   "metadata": {},
   "outputs": [
    {
     "name": "stdout",
     "output_type": "stream",
     "text": [
      "{'Unnamed: 0': 0, 'age': 17, 'fnlwgt': 12285, 'education-num': 1, 'capital-gain': 0, 'capital-loss': 0, 'hours-per-week': 1}\n"
     ]
    }
   ],
   "source": [
    "#imprimir los numeros minimos de la columna\n",
    "print(minimo)"
   ]
  },
  {
   "cell_type": "code",
   "execution_count": 18,
   "id": "94fa453f-0a0e-421e-989e-71658b3697dd",
   "metadata": {},
   "outputs": [
    {
     "name": "stdout",
     "output_type": "stream",
     "text": [
      "{'Unnamed: 0': 198799150.5, 'age': 187.97808266247543, 'fnlwgt': 11152210185.574848, 'education-num': 6.6099009099976405, 'capital-gain': 55532588.035659194, 'capital-loss': 162412.66903295522, 'hours-per-week': 153.5478850061782}\n"
     ]
    }
   ],
   "source": [
    "#imprimir la varianza\n",
    "print(varianza)"
   ]
  },
  {
   "cell_type": "code",
   "execution_count": 19,
   "id": "a0ce03f5-d5e3-412d-8754-4afe2ca6e9b9",
   "metadata": {},
   "outputs": [
    {
     "name": "stdout",
     "output_type": "stream",
     "text": [
      "{'Unnamed: 0': 14099.615260708357, 'age': 13.710509934443555, 'fnlwgt': 105604.02542315728, 'education-num': 2.5709727555922566, 'capital-gain': 7452.019057655394, 'capital-loss': 403.00455212435907, 'hours-per-week': 12.391444024252307}\n"
     ]
    }
   ],
   "source": [
    "#imprimit la desviacion\n",
    "print(desviacion)"
   ]
  },
  {
   "cell_type": "code",
   "execution_count": 20,
   "id": "e9efa400-2555-4fff-af8e-ea2574b72ca9",
   "metadata": {},
   "outputs": [
    {
     "data": {
      "text/html": [
       "<div>\n",
       "<style scoped>\n",
       "    .dataframe tbody tr th:only-of-type {\n",
       "        vertical-align: middle;\n",
       "    }\n",
       "\n",
       "    .dataframe tbody tr th {\n",
       "        vertical-align: top;\n",
       "    }\n",
       "\n",
       "    .dataframe thead th {\n",
       "        text-align: right;\n",
       "    }\n",
       "</style>\n",
       "<table border=\"1\" class=\"dataframe\">\n",
       "  <thead>\n",
       "    <tr style=\"text-align: right;\">\n",
       "      <th></th>\n",
       "      <th>Unnamed: 0</th>\n",
       "      <th>age</th>\n",
       "      <th>fnlwgt</th>\n",
       "      <th>education-num</th>\n",
       "      <th>capital-gain</th>\n",
       "      <th>capital-loss</th>\n",
       "      <th>hours-per-week</th>\n",
       "    </tr>\n",
       "  </thead>\n",
       "  <tbody>\n",
       "    <tr>\n",
       "      <th>count</th>\n",
       "      <td>48842.000000</td>\n",
       "      <td>48842.000000</td>\n",
       "      <td>4.884200e+04</td>\n",
       "      <td>48842.000000</td>\n",
       "      <td>48842.000000</td>\n",
       "      <td>48842.000000</td>\n",
       "      <td>48842.000000</td>\n",
       "    </tr>\n",
       "    <tr>\n",
       "      <th>mean</th>\n",
       "      <td>24420.500000</td>\n",
       "      <td>38.643585</td>\n",
       "      <td>1.896641e+05</td>\n",
       "      <td>10.078089</td>\n",
       "      <td>1079.067626</td>\n",
       "      <td>87.502314</td>\n",
       "      <td>40.422382</td>\n",
       "    </tr>\n",
       "    <tr>\n",
       "      <th>std</th>\n",
       "      <td>14099.615261</td>\n",
       "      <td>13.710510</td>\n",
       "      <td>1.056040e+05</td>\n",
       "      <td>2.570973</td>\n",
       "      <td>7452.019058</td>\n",
       "      <td>403.004552</td>\n",
       "      <td>12.391444</td>\n",
       "    </tr>\n",
       "    <tr>\n",
       "      <th>min</th>\n",
       "      <td>0.000000</td>\n",
       "      <td>17.000000</td>\n",
       "      <td>1.228500e+04</td>\n",
       "      <td>1.000000</td>\n",
       "      <td>0.000000</td>\n",
       "      <td>0.000000</td>\n",
       "      <td>1.000000</td>\n",
       "    </tr>\n",
       "    <tr>\n",
       "      <th>25%</th>\n",
       "      <td>12210.250000</td>\n",
       "      <td>28.000000</td>\n",
       "      <td>1.175505e+05</td>\n",
       "      <td>9.000000</td>\n",
       "      <td>0.000000</td>\n",
       "      <td>0.000000</td>\n",
       "      <td>40.000000</td>\n",
       "    </tr>\n",
       "    <tr>\n",
       "      <th>50%</th>\n",
       "      <td>24420.500000</td>\n",
       "      <td>37.000000</td>\n",
       "      <td>1.781445e+05</td>\n",
       "      <td>10.000000</td>\n",
       "      <td>0.000000</td>\n",
       "      <td>0.000000</td>\n",
       "      <td>40.000000</td>\n",
       "    </tr>\n",
       "    <tr>\n",
       "      <th>75%</th>\n",
       "      <td>36630.750000</td>\n",
       "      <td>48.000000</td>\n",
       "      <td>2.376420e+05</td>\n",
       "      <td>12.000000</td>\n",
       "      <td>0.000000</td>\n",
       "      <td>0.000000</td>\n",
       "      <td>45.000000</td>\n",
       "    </tr>\n",
       "    <tr>\n",
       "      <th>max</th>\n",
       "      <td>48841.000000</td>\n",
       "      <td>90.000000</td>\n",
       "      <td>1.490400e+06</td>\n",
       "      <td>16.000000</td>\n",
       "      <td>99999.000000</td>\n",
       "      <td>4356.000000</td>\n",
       "      <td>99.000000</td>\n",
       "    </tr>\n",
       "  </tbody>\n",
       "</table>\n",
       "</div>"
      ],
      "text/plain": [
       "         Unnamed: 0           age        fnlwgt  education-num  capital-gain  \\\n",
       "count  48842.000000  48842.000000  4.884200e+04   48842.000000  48842.000000   \n",
       "mean   24420.500000     38.643585  1.896641e+05      10.078089   1079.067626   \n",
       "std    14099.615261     13.710510  1.056040e+05       2.570973   7452.019058   \n",
       "min        0.000000     17.000000  1.228500e+04       1.000000      0.000000   \n",
       "25%    12210.250000     28.000000  1.175505e+05       9.000000      0.000000   \n",
       "50%    24420.500000     37.000000  1.781445e+05      10.000000      0.000000   \n",
       "75%    36630.750000     48.000000  2.376420e+05      12.000000      0.000000   \n",
       "max    48841.000000     90.000000  1.490400e+06      16.000000  99999.000000   \n",
       "\n",
       "       capital-loss  hours-per-week  \n",
       "count  48842.000000    48842.000000  \n",
       "mean      87.502314       40.422382  \n",
       "std      403.004552       12.391444  \n",
       "min        0.000000        1.000000  \n",
       "25%        0.000000       40.000000  \n",
       "50%        0.000000       40.000000  \n",
       "75%        0.000000       45.000000  \n",
       "max     4356.000000       99.000000  "
      ]
     },
     "execution_count": 20,
     "metadata": {},
     "output_type": "execute_result"
    }
   ],
   "source": [
    "#realizar descripcion de forma masiva\n",
    "df1.describe()"
   ]
  },
  {
   "cell_type": "code",
   "execution_count": null,
   "id": "52abad6b-dbfc-4fac-9e42-cb2a527496fa",
   "metadata": {},
   "outputs": [],
   "source": []
  }
 ],
 "metadata": {
  "kernelspec": {
   "display_name": "Python 3 (ipykernel)",
   "language": "python",
   "name": "python3"
  },
  "language_info": {
   "codemirror_mode": {
    "name": "ipython",
    "version": 3
   },
   "file_extension": ".py",
   "mimetype": "text/x-python",
   "name": "python",
   "nbconvert_exporter": "python",
   "pygments_lexer": "ipython3",
   "version": "3.9.6"
  }
 },
 "nbformat": 4,
 "nbformat_minor": 5
}
