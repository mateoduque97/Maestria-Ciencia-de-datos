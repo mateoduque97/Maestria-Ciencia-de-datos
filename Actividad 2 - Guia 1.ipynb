{
 "cells": [
  {
   "cell_type": "markdown",
   "id": "3a24f27a-b0fa-41e9-a77d-c667bbe2dd03",
   "metadata": {},
   "source": [
    "# **Actividad 2 - Guia1 - programacion para la ciencia de Datos**"
   ]
  },
  {
   "cell_type": "code",
   "execution_count": 50,
   "id": "b6087991-633d-452b-aada-aab3cc0f2dfd",
   "metadata": {},
   "outputs": [],
   "source": [
    "#importar pandas y leer archivo csv\n",
    "import pandas as pd\n",
    "\n",
    "#Leer Archivo csv titanic\n",
    "df1 = pd.read_csv('titanic.csv')\n"
   ]
  },
  {
   "cell_type": "markdown",
   "id": "596134e1-20b3-415a-87c9-225dbe455db1",
   "metadata": {},
   "source": [
    "### **Punto 1 Informacion de las variabels iniciales**"
   ]
  },
  {
   "cell_type": "code",
   "execution_count": 51,
   "id": "9f2155d7-2e3a-4281-a4b5-a156283ce276",
   "metadata": {},
   "outputs": [
    {
     "name": "stdout",
     "output_type": "stream",
     "text": [
      "<class 'pandas.core.frame.DataFrame'>\n",
      "RangeIndex: 887 entries, 0 to 886\n",
      "Data columns (total 8 columns):\n",
      " #   Column                   Non-Null Count  Dtype  \n",
      "---  ------                   --------------  -----  \n",
      " 0   Survived                 887 non-null    int64  \n",
      " 1   Pclass                   887 non-null    int64  \n",
      " 2   Name                     887 non-null    object \n",
      " 3   Sex                      887 non-null    object \n",
      " 4   Age                      887 non-null    float64\n",
      " 5   Siblings/Spouses Aboard  887 non-null    int64  \n",
      " 6   Parents/Children Aboard  887 non-null    int64  \n",
      " 7   Fare                     887 non-null    float64\n",
      "dtypes: float64(2), int64(4), object(2)\n",
      "memory usage: 55.6+ KB\n"
     ]
    }
   ],
   "source": [
    "# Informacion de las variabls\n",
    "df1.info()"
   ]
  },
  {
   "cell_type": "code",
   "execution_count": 52,
   "id": "c39c0148-9f20-4e14-91b8-cc76bf90425b",
   "metadata": {},
   "outputs": [
    {
     "data": {
      "text/html": [
       "<div>\n",
       "<style scoped>\n",
       "    .dataframe tbody tr th:only-of-type {\n",
       "        vertical-align: middle;\n",
       "    }\n",
       "\n",
       "    .dataframe tbody tr th {\n",
       "        vertical-align: top;\n",
       "    }\n",
       "\n",
       "    .dataframe thead th {\n",
       "        text-align: right;\n",
       "    }\n",
       "</style>\n",
       "<table border=\"1\" class=\"dataframe\">\n",
       "  <thead>\n",
       "    <tr style=\"text-align: right;\">\n",
       "      <th></th>\n",
       "      <th>Survived</th>\n",
       "      <th>Pclass</th>\n",
       "      <th>Age</th>\n",
       "      <th>Siblings/Spouses Aboard</th>\n",
       "      <th>Parents/Children Aboard</th>\n",
       "      <th>Fare</th>\n",
       "    </tr>\n",
       "  </thead>\n",
       "  <tbody>\n",
       "    <tr>\n",
       "      <th>count</th>\n",
       "      <td>887.000000</td>\n",
       "      <td>887.000000</td>\n",
       "      <td>887.000000</td>\n",
       "      <td>887.000000</td>\n",
       "      <td>887.000000</td>\n",
       "      <td>887.00000</td>\n",
       "    </tr>\n",
       "    <tr>\n",
       "      <th>mean</th>\n",
       "      <td>0.385569</td>\n",
       "      <td>2.305524</td>\n",
       "      <td>29.471443</td>\n",
       "      <td>0.525366</td>\n",
       "      <td>0.383315</td>\n",
       "      <td>32.30542</td>\n",
       "    </tr>\n",
       "    <tr>\n",
       "      <th>std</th>\n",
       "      <td>0.487004</td>\n",
       "      <td>0.836662</td>\n",
       "      <td>14.121908</td>\n",
       "      <td>1.104669</td>\n",
       "      <td>0.807466</td>\n",
       "      <td>49.78204</td>\n",
       "    </tr>\n",
       "    <tr>\n",
       "      <th>min</th>\n",
       "      <td>0.000000</td>\n",
       "      <td>1.000000</td>\n",
       "      <td>0.420000</td>\n",
       "      <td>0.000000</td>\n",
       "      <td>0.000000</td>\n",
       "      <td>0.00000</td>\n",
       "    </tr>\n",
       "    <tr>\n",
       "      <th>25%</th>\n",
       "      <td>0.000000</td>\n",
       "      <td>2.000000</td>\n",
       "      <td>20.250000</td>\n",
       "      <td>0.000000</td>\n",
       "      <td>0.000000</td>\n",
       "      <td>7.92500</td>\n",
       "    </tr>\n",
       "    <tr>\n",
       "      <th>50%</th>\n",
       "      <td>0.000000</td>\n",
       "      <td>3.000000</td>\n",
       "      <td>28.000000</td>\n",
       "      <td>0.000000</td>\n",
       "      <td>0.000000</td>\n",
       "      <td>14.45420</td>\n",
       "    </tr>\n",
       "    <tr>\n",
       "      <th>75%</th>\n",
       "      <td>1.000000</td>\n",
       "      <td>3.000000</td>\n",
       "      <td>38.000000</td>\n",
       "      <td>1.000000</td>\n",
       "      <td>0.000000</td>\n",
       "      <td>31.13750</td>\n",
       "    </tr>\n",
       "    <tr>\n",
       "      <th>max</th>\n",
       "      <td>1.000000</td>\n",
       "      <td>3.000000</td>\n",
       "      <td>80.000000</td>\n",
       "      <td>8.000000</td>\n",
       "      <td>6.000000</td>\n",
       "      <td>512.32920</td>\n",
       "    </tr>\n",
       "  </tbody>\n",
       "</table>\n",
       "</div>"
      ],
      "text/plain": [
       "         Survived      Pclass         Age  Siblings/Spouses Aboard  \\\n",
       "count  887.000000  887.000000  887.000000               887.000000   \n",
       "mean     0.385569    2.305524   29.471443                 0.525366   \n",
       "std      0.487004    0.836662   14.121908                 1.104669   \n",
       "min      0.000000    1.000000    0.420000                 0.000000   \n",
       "25%      0.000000    2.000000   20.250000                 0.000000   \n",
       "50%      0.000000    3.000000   28.000000                 0.000000   \n",
       "75%      1.000000    3.000000   38.000000                 1.000000   \n",
       "max      1.000000    3.000000   80.000000                 8.000000   \n",
       "\n",
       "       Parents/Children Aboard       Fare  \n",
       "count               887.000000  887.00000  \n",
       "mean                  0.383315   32.30542  \n",
       "std                   0.807466   49.78204  \n",
       "min                   0.000000    0.00000  \n",
       "25%                   0.000000    7.92500  \n",
       "50%                   0.000000   14.45420  \n",
       "75%                   0.000000   31.13750  \n",
       "max                   6.000000  512.32920  "
      ]
     },
     "execution_count": 52,
     "metadata": {},
     "output_type": "execute_result"
    }
   ],
   "source": [
    "#Descripcion de las variables\n",
    "df1.describe()"
   ]
  },
  {
   "cell_type": "markdown",
   "id": "95a2a02c-5374-4731-98f8-1ee2a9455c58",
   "metadata": {},
   "source": [
    "### **Punto 2 Descripcion**"
   ]
  },
  {
   "cell_type": "code",
   "execution_count": 53,
   "id": "ff08a580-44a6-4254-9603-62a788a5e976",
   "metadata": {},
   "outputs": [
    {
     "data": {
      "text/plain": [
       "342"
      ]
     },
     "execution_count": 53,
     "metadata": {},
     "output_type": "execute_result"
    }
   ],
   "source": [
    "#Cantidad de sobrevivientes - Suma de columna de sobrevivientes\n",
    "df1['Survived'].sum()\n"
   ]
  },
  {
   "cell_type": "code",
   "execution_count": 54,
   "id": "cfc246a8-6bc9-4d66-95ad-50be2e33f995",
   "metadata": {},
   "outputs": [
    {
     "name": "stdout",
     "output_type": "stream",
     "text": [
      "Pclass\n",
      "3    54.904171\n",
      "1    24.351747\n",
      "2    20.744081\n",
      "Name: proportion, dtype: float64\n"
     ]
    }
   ],
   "source": [
    "#Distribucion de procentaje de clases\n",
    "clase = df1['Pclass'].value_counts(normalize=True) * 100\n",
    "print(clase)"
   ]
  },
  {
   "cell_type": "code",
   "execution_count": 55,
   "id": "a2a9630e-c5ad-4a4a-b235-4eb01f8ad719",
   "metadata": {},
   "outputs": [
    {
     "name": "stdout",
     "output_type": "stream",
     "text": [
      "806\n"
     ]
    }
   ],
   "source": [
    "#Suma de parientes conyugues a bordo\n",
    "sumap = df1['Siblings/Spouses Aboard'].sum() + df1['Parents/Children Aboard'].sum()\n",
    "print(sumap)\n"
   ]
  },
  {
   "cell_type": "code",
   "execution_count": 56,
   "id": "710f5ee3-f25a-4033-803d-a5d10fee3d48",
   "metadata": {},
   "outputs": [
    {
     "name": "stdout",
     "output_type": "stream",
     "text": [
      "intervalo\n",
      "0-10       37.542277\n",
      "20-50      24.239008\n",
      "10-20      20.067644\n",
      "50-100     12.175874\n",
      "100-200     3.720406\n",
      "200+        2.254791\n",
      "Name: proportion, dtype: float64\n"
     ]
    }
   ],
   "source": [
    "#Agrupacion de tarifas\n",
    "\n",
    "def intervalo(Fare):\n",
    "    if Fare < 10:\n",
    "        return '0-10'\n",
    "    elif 10 <= Fare < 20:\n",
    "        return '10-20'\n",
    "    elif 20 <= Fare < 50:\n",
    "        return '20-50'\n",
    "    elif 50 <= Fare < 100:\n",
    "        return '50-100'\n",
    "    elif 100 <= Fare < 200:\n",
    "        return '100-200'\n",
    "    else:\n",
    "        return '200+'\n",
    "\n",
    "#Aplicar funcion\n",
    "# Aplicar la función para asignar intervalos\n",
    "df1['intervalo'] = df1['Fare'].apply(intervalo)\n",
    "\n",
    "#Distribucion de procentaje de clases\n",
    "tarifa = df1['intervalo'].value_counts(normalize=True) * 100\n",
    "print(tarifa)\n",
    "\n"
   ]
  },
  {
   "cell_type": "markdown",
   "id": "763c1a1a-394d-4113-8f10-ac0f9c114c03",
   "metadata": {},
   "source": [
    "### **Punto 3 limpieza de datos**"
   ]
  },
  {
   "cell_type": "code",
   "execution_count": 57,
   "id": "6019c939-e5c3-4c5b-ab3a-e882906d9bea",
   "metadata": {},
   "outputs": [
    {
     "name": "stdout",
     "output_type": "stream",
     "text": [
      "0      22\n",
      "1      38\n",
      "2      26\n",
      "3      35\n",
      "4      35\n",
      "       ..\n",
      "882    27\n",
      "883    19\n",
      "884     7\n",
      "885    26\n",
      "886    32\n",
      "Name: Age, Length: 887, dtype: int64\n"
     ]
    }
   ],
   "source": [
    "#Aproximar valores de la columna de edad\n",
    "df1['Age'] = df1['Age'].round(2).astype(int)\n",
    "\n",
    "print(df1['Age'])"
   ]
  },
  {
   "cell_type": "code",
   "execution_count": 58,
   "id": "19d83422-bbac-436c-a241-63a3e17956e0",
   "metadata": {},
   "outputs": [
    {
     "name": "stdout",
     "output_type": "stream",
     "text": [
      "0       7\n",
      "1      71\n",
      "2       7\n",
      "3      53\n",
      "4       8\n",
      "       ..\n",
      "882    13\n",
      "883    30\n",
      "884    23\n",
      "885    30\n",
      "886     7\n",
      "Name: Fare, Length: 887, dtype: int64\n"
     ]
    }
   ],
   "source": [
    "#Aproximar las tarifas\n",
    "df1['Fare'] = df1['Fare'].round(2).astype(int)\n",
    "print(df1['Fare'])"
   ]
  },
  {
   "cell_type": "markdown",
   "id": "4d3d02e1-a083-4547-a654-c027e4519a25",
   "metadata": {},
   "source": [
    "### **Punto 3 Analisis e Informe**"
   ]
  },
  {
   "cell_type": "code",
   "execution_count": 59,
   "id": "6275b079-e664-40a2-988b-12efad85f9b9",
   "metadata": {},
   "outputs": [
    {
     "name": "stdout",
     "output_type": "stream",
     "text": [
      "edades\n",
      "30-50    35.287486\n",
      "20-30    33.032694\n",
      "10-20    14.430665\n",
      "50+       9.244645\n",
      "0-10      8.004510\n",
      "Name: proportion, dtype: float64\n"
     ]
    }
   ],
   "source": [
    "#Distribucion de edad por informes\n",
    "\n",
    "def edades(Age):\n",
    "    if Age < 10:\n",
    "        return '0-10'\n",
    "    elif 10 <= Age < 20:\n",
    "        return '10-20'\n",
    "    elif 20 <= Age < 30:\n",
    "        return '20-30'\n",
    "    elif 30 <= Age < 50:\n",
    "        return '30-50'\n",
    "    else:\n",
    "        return '50+'\n",
    "\n",
    "#Aplicar funcion\n",
    "# Aplicar la función para asignar intervalos\n",
    "df1['edades'] = df1['Age'].apply(edades)\n",
    "\n",
    "#Distribucion de procentaje de clases\n",
    "edades = df1['edades'].value_counts(normalize=True) * 100\n",
    "\n",
    "print(edades)\n"
   ]
  },
  {
   "cell_type": "code",
   "execution_count": 60,
   "id": "ec4b22b3-3f6a-40fc-923e-a71eb3f55ae0",
   "metadata": {},
   "outputs": [
    {
     "name": "stdout",
     "output_type": "stream",
     "text": [
      "edades\n",
      "30-50    37.426901\n",
      "20-30    28.654971\n",
      "10-20    14.035088\n",
      "0-10     11.988304\n",
      "50+       7.894737\n",
      "Name: proportion, dtype: float64\n"
     ]
    }
   ],
   "source": [
    "#Relacion de variables\n",
    "#Relacion de supervivientes con rangos de edad\n",
    "def superviviencia(Survived):\n",
    "    if Survived\t == 1:\n",
    "        return 'SI'\n",
    "    else:\n",
    "        return 'NO'\n",
    "\n",
    "# Aplicar la función\n",
    "df1['superviviencia'] = df1['Survived'].apply(superviviencia)\n",
    "\n",
    "#filtrar los que sobrevivieron\n",
    "df1_vivos = df1[df1['superviviencia'] == 'SI']\n",
    "\n",
    "#Distribucion de procentaje de clases\n",
    "edadvivos = df1_vivos['edades'].value_counts(normalize=True) * 100\n",
    "\n",
    "print(edadvivos)\n"
   ]
  },
  {
   "cell_type": "code",
   "execution_count": 61,
   "id": "56acd9da-142f-4337-8646-5bff07b675fc",
   "metadata": {},
   "outputs": [
    {
     "name": "stdout",
     "output_type": "stream",
     "text": [
      "intervalo\n",
      "20-50      26.315789\n",
      "10-20      22.222222\n",
      "50-100     20.467836\n",
      "0-10       19.590643\n",
      "100-200     7.309942\n",
      "200+        4.093567\n",
      "Name: proportion, dtype: float64\n"
     ]
    }
   ],
   "source": [
    "#Tarifa de vivos\n",
    "tarifavivos = df1_vivos['intervalo'].value_counts(normalize=True) * 100\n",
    "print(tarifavivos)"
   ]
  },
  {
   "cell_type": "code",
   "execution_count": 62,
   "id": "4f27b7aa-761d-46e1-9620-156966d45f6f",
   "metadata": {},
   "outputs": [
    {
     "name": "stdout",
     "output_type": "stream",
     "text": [
      "Sex\n",
      "female    68.128655\n",
      "male      31.871345\n",
      "Name: proportion, dtype: float64\n"
     ]
    }
   ],
   "source": [
    "#Genero de vivos\n",
    "generovivos = df1_vivos['Sex'].value_counts(normalize=True) * 100\n",
    "print(generovivos)"
   ]
  },
  {
   "cell_type": "markdown",
   "id": "64b30da3-cd40-47be-8e14-8c3b03b9e583",
   "metadata": {},
   "source": [
    "## **CONCLUSIONES**\n",
    "#### Se realizo una descripcion inicial de las variables donde se identifico que tipo de variable era cada una de las columnas, se realizo una\n",
    "#### descripcion utilizando funciones e IF, y se relaciono las variables de cuerdo a las personas vivas."
   ]
  },
  {
   "cell_type": "code",
   "execution_count": null,
   "id": "cd2fa118-e889-4cf8-b3d9-9b7874e244fa",
   "metadata": {},
   "outputs": [],
   "source": []
  }
 ],
 "metadata": {
  "kernelspec": {
   "display_name": "Python 3 (ipykernel)",
   "language": "python",
   "name": "python3"
  },
  "language_info": {
   "codemirror_mode": {
    "name": "ipython",
    "version": 3
   },
   "file_extension": ".py",
   "mimetype": "text/x-python",
   "name": "python",
   "nbconvert_exporter": "python",
   "pygments_lexer": "ipython3",
   "version": "3.9.6"
  }
 },
 "nbformat": 4,
 "nbformat_minor": 5
}
